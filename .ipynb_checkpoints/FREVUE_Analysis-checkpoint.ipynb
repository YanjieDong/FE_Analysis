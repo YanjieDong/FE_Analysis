{
 "cells": [
  {
   "cell_type": "code",
   "execution_count": 135,
   "metadata": {
    "collapsed": false
   },
   "outputs": [],
   "source": [
    "from pymongo import MongoClient\n",
    "import pylab as pl\n",
    "import pandas as pd\n",
    "import matplotlib.pyplot as plt\n",
    "import matplotlib as mpl\n",
    "import datetime as dt\n",
    "import numpy as np\n",
    "import math\n",
    "\n",
    "%matplotlib inline  \n",
    "\n",
    "client = MongoClient(port=27123)\n",
    "db = client.frevue_data\n",
    "coll = db.Trips\n",
    "#cursor = coll.find({\"Owner\": \"United Kingdom, London, UPS\"})"
   ]
  },
  {
   "cell_type": "markdown",
   "metadata": {},
   "source": [
    "# import data and extract list of data owner and the count of data entries for each data owner "
   ]
  },
  {
   "cell_type": "code",
   "execution_count": 3,
   "metadata": {
    "collapsed": false,
    "scrolled": true
   },
   "outputs": [
    {
     "name": "stdout",
     "output_type": "stream",
     "text": [
      "    NumberOfRecords                                          _id\n",
      "0               413                Netherlands, Rotterdam, EMOSS\n",
      "1             12675      Netherlands, Amsterdam & Rotterdam, TNT\n",
      "2               161              United Kingdom, London, Clipper\n",
      "3              1096                        Portugal, Lisbon, CTT\n",
      "4               541             Netherlands, Amsterdam, Heineken\n",
      "5              1143  Spain, Madrid, Calidad Pascual & SEUR & TNT\n",
      "6              1652                  Netherlands, Rotterdam, UPS\n",
      "7              2987  Netherlands, Amsterdam & Rotterdam, TNT RAW\n",
      "8               319             Netherlands, Rotterdam, Heineken\n",
      "9              1589                       Portugal, Lisbon, EMEL\n",
      "10            15800                  United Kingdom, London, UPS\n",
      "11               68                          Italy, Milano, AMAT\n"
     ]
    }
   ],
   "source": [
    "# this section check the number of partners in the database\n",
    "# choose a partner and check the number of unique vehicles\n",
    "# then for each vehicle check the number of available days\n",
    "\n",
    "cursor1 = coll.aggregate([\n",
    "        {\"$group\": {\"_id\": \"$Owner\", \"NumberOfRecords\": {\"$sum\": 1}}}\n",
    "    ])\n",
    "array = list(cursor1)\n",
    "vehlist = pd.DataFrame(array)    #list of operation partners\n",
    "print vehlist"
   ]
  },
  {
   "cell_type": "markdown",
   "metadata": {},
   "source": [
    "# choose a data owner"
   ]
  },
  {
   "cell_type": "code",
   "execution_count": 129,
   "metadata": {
    "collapsed": false
   },
   "outputs": [
    {
     "name": "stdout",
     "output_type": "stream",
     "text": [
      "current data owner selected is Netherlands, Amsterdam, Heineken\n"
     ]
    }
   ],
   "source": [
    "curpartner = vehlist.iloc[4,1]   #current partner can set up a loop  ********************\n",
    "print \"current data owner selected is \" + curpartner"
   ]
  },
  {
   "cell_type": "markdown",
   "metadata": {},
   "source": [
    "# now extract the number of vehicles (vehicleid) available for the chosen partner and the number of days which data is available for each vehicle"
   ]
  },
  {
   "cell_type": "code",
   "execution_count": 130,
   "metadata": {
    "collapsed": false
   },
   "outputs": [
    {
     "name": "stdout",
     "output_type": "stream",
     "text": [
      "Total number of vehicle is 6 from Netherlands, Amsterdam, Heineken\n",
      "the number of a vehicle with different strip start and end dates is 4\n",
      "Summary of data availability for each vehicle\n",
      "   VehicleId  numofdays  VID\n",
      "0  GINAF 001        196    1\n",
      "1  GINAF 002         59    2\n",
      "2  GINAF 004         95    3\n",
      "3  GINAF 005         77    4\n",
      "4  GINAF 006         60    5\n",
      "5  GINAF 007         41    6\n"
     ]
    }
   ],
   "source": [
    "# check valid recordings (distance bigger than 0)\n",
    "cursor2 = coll.find(\n",
    "        {\"$and\": [\n",
    "                 {\"Owner\": curpartner},\n",
    "                 {\"Distance\": {\"$gt\": 0}}\n",
    "                ]\n",
    "        })\n",
    "PartnerData = pd.DataFrame(list(cursor2))\n",
    "PartnerData['sday'] = [x.date() for x in PartnerData['StartTime']]\n",
    "PartnerData['eday'] = [x.date() for x in PartnerData['EndTime']]\n",
    "# printing\n",
    "Veh_num = len(PartnerData['VehicleId'].unique()) #count the number of vehilces\n",
    "print \"Total number of vehicle is \" + str(Veh_num) + \" from \" + curpartner    #number of vehicles\n",
    "\n",
    "check = sum(PartnerData['sday'] <> PartnerData['eday'])\n",
    "print \"the number of a vehicle with different strip start and end dates is \" + str(check)\n",
    "\n",
    "# check how many days worth of data is availale for each vehicle\n",
    "# PartnerData['newVID'] = PartnerData['VehicleId'].str[:6] ### ONLY FOR UPS (their data seems to have duplicate vehilces)\n",
    "# Veh_num2 = len(PartnerData['newVID'].unique())\n",
    "# print Veh_num2\n",
    "#veh_days = pd.DataFrame(PartnerData.groupby('newVID').size().rename('numofdays'))\n",
    "veh_days = pd.DataFrame(PartnerData.groupby('VehicleId').size().rename('numofdays'))\n",
    "veh_days = veh_days.reset_index(range(veh_days.count()))\n",
    "veh_days['VID'] = veh_days.index + 1\n",
    "print \"Summary of data availability for each vehicle\"\n",
    "print veh_days\n",
    "\n",
    "\n",
    "# merge to get unique vehilce ID for each vehicle (for plotting purpose)\n",
    "#PartnerData = pd.merge(PartnerData, veh_days, left_on = \"newVID\", right_on = \"newVID\")\n",
    "PartnerData = pd.merge(PartnerData, veh_days, left_on = \"VehicleId\", right_on = \"VehicleId\")\n",
    "\n",
    "#tripid should note be used anymore\n",
    "# PartnerData['TripId'] = pd.to_datetime(PartnerData['TripId'])"
   ]
  },
  {
   "cell_type": "markdown",
   "metadata": {},
   "source": [
    "# NOTE: Plotting of data availability is based on the \"endtime\" record"
   ]
  },
  {
   "cell_type": "code",
   "execution_count": 131,
   "metadata": {
    "collapsed": false
   },
   "outputs": [
    {
     "data": {
      "image/png": "[encoded data removed]",
      "text/plain": [
       "<matplotlib.figure.Figure at 0x14a9c6d30>"
      ]
     },
     "metadata": {},
     "output_type": "display_data"
    }
   ],
   "source": [
    "# plotting data availability\n",
    "fig = plt.figure(figsize=(20, 20))\n",
    "ax1 = fig.add_subplot(2,2,1)\n",
    "\n",
    "for i in PartnerData['VehicleId'].unique():\n",
    "    datelist = []\n",
    "    selVehData = PartnerData[PartnerData['VehicleId']==i]\n",
    "    curID = selVehData['VID'].iloc[0]\n",
    "    sdate = selVehData['eday'].min()\n",
    "    edate = selVehData['eday'].max()\n",
    "    diffdate = edate - sdate\n",
    "    dateswitch = 0\n",
    "    curdate = sdate\n",
    "    for j in range(0, int(diffdate.days)):\n",
    "        predate = curdate                          #previous date\n",
    "        curdate = curdate + dt.timedelta(days=1)     #current date\n",
    "        if any(selVehData['eday'] == curdate) and dateswitch == 1:\n",
    "            sdate = curdate\n",
    "            dateswitch = 0\n",
    "        if (not any(selVehData['eday'] == curdate)) and dateswitch == 0:   #if current date is not available, call plotting\n",
    "            #pltmain(sdate, predate)\n",
    "            datelist.append((mpl.dates.date2num(sdate), mpl.dates.date2num(curdate)-mpl.dates.date2num(sdate)))\n",
    "            dateswitch = 1\n",
    "    ax1.broken_barh(datelist, (curID,0.5))\n",
    "ax1.xaxis_date()\n",
    "ax1.set_xlim(PartnerData['eday'].min(), PartnerData['eday'].max())\n",
    "ax1.set_ylim(0.5, len(PartnerData['VehicleId'].unique())+1)\n",
    "ax1.yaxis.set_ticks(np.arange(1.25, len(PartnerData['VehicleId'].unique())+1))\n",
    "ax1.set_yticklabels(PartnerData['VehicleId'].unique())\n",
    "fig.autofmt_xdate()"
   ]
  },
  {
   "cell_type": "markdown",
   "metadata": {},
   "source": [
    "# plotting of total distance per day"
   ]
  },
  {
   "cell_type": "code",
   "execution_count": 139,
   "metadata": {
    "collapsed": false,
    "scrolled": false
   },
   "outputs": [
    {
     "data": {
      "image/png": "[encoded data removed]",
      "text/plain": [
       "<matplotlib.figure.Figure at 0x18cb8fb70>"
      ]
     },
     "metadata": {},
     "output_type": "display_data"
    }
   ],
   "source": [
    "fig2 = pl.figure(figsize=(10, 10))\n",
    "fig2.subplots_adjust(hspace=0.0)\n",
    "# pl.subplots_adjust(hspace=0.1)\n",
    "number_of_subplots=len(PartnerData['VehicleId'].unique())\n",
    "\n",
    "for i,v in enumerate(xrange(number_of_subplots)):\n",
    "    vehid = PartnerData['VehicleId'].unique()[i]\n",
    "    selVehData2 = PartnerData[PartnerData['VehicleId']==vehid]\n",
    "\n",
    "    sdate2 = selVehData2['eday'].min()\n",
    "    edate2 = selVehData2['eday'].max()\n",
    "\n",
    "    delta2 = edate2-sdate2\n",
    "    \n",
    "    v = v+1\n",
    "    ax2 = fig2.add_subplot(number_of_subplots,1,v)\n",
    "    ax2.bar(mpl.dates.date2num(selVehData2['eday']), selVehData2['Distance']/1000, color='black')\n",
    "\n",
    "    ax2.xaxis_date()\n",
    "    ax2.set_xlim(PartnerData['eday'].min(), PartnerData['eday'].max())\n",
    "    ax2.set_ylabel(vehid)\n",
    "    if i == 0:\n",
    "        ax2.set_title(\"Total Daily Distance -km\")\n",
    "    maxdis = max(selVehData2['Distance']/1000)\n",
    "    ax2.set_yticks(range(0,int(maxdis*1.1), int(math.ceil((maxdis*1.1/5)/10)*10)))\n",
    "    \n",
    "fig2.autofmt_xdate()\n"
   ]
  },
  {
   "cell_type": "markdown",
   "metadata": {},
   "source": [
    "# some statistics of daily distance for each of the vehicle"
   ]
  },
  {
   "cell_type": "code",
   "execution_count": 90,
   "metadata": {
    "collapsed": false
   },
   "outputs": [
    {
     "data": {
      "text/plain": [
       "u'12-BFB-3'"
      ]
     },
     "execution_count": 90,
     "metadata": {},
     "output_type": "execute_result"
    }
   ],
   "source": []
  },
  {
   "cell_type": "code",
   "execution_count": 74,
   "metadata": {
    "collapsed": false
   },
   "outputs": [
    {
     "data": {
      "text/plain": [
       "188"
      ]
     },
     "execution_count": 74,
     "metadata": {},
     "output_type": "execute_result"
    }
   ],
   "source": [
    "len(selVehData2['Distance'])"
   ]
  },
  {
   "cell_type": "markdown",
   "metadata": {},
   "source": [
    "# optional - if the number of vehicle with different trip start and end dates is not zero"
   ]
  },
  {
   "cell_type": "code",
   "execution_count": 16,
   "metadata": {
    "collapsed": false
   },
   "outputs": [
    {
     "data": {
      "text/html": [
       "<div>\n",
       "<table border=\"1\" class=\"dataframe\">\n",
       "  <thead>\n",
       "    <tr style=\"text-align: right;\">\n",
       "      <th></th>\n",
       "      <th>Aggregation</th>\n",
       "      <th>DataPoints</th>\n",
       "      <th>Distance</th>\n",
       "      <th>Duration</th>\n",
       "      <th>EndTime</th>\n",
       "      <th>Extras</th>\n",
       "      <th>FileRelativePath</th>\n",
       "      <th>Frequency</th>\n",
       "      <th>Owner</th>\n",
       "      <th>StartTime</th>\n",
       "      <th>...</th>\n",
       "      <th>StateOfChargeEnd</th>\n",
       "      <th>StateOfChargeMax</th>\n",
       "      <th>StateOfChargeMin</th>\n",
       "      <th>StateOfChargeStart</th>\n",
       "      <th>StateOfChargeUp</th>\n",
       "      <th>TripId</th>\n",
       "      <th>VehicleId</th>\n",
       "      <th>_id</th>\n",
       "      <th>sday</th>\n",
       "      <th>eday</th>\n",
       "    </tr>\n",
       "  </thead>\n",
       "  <tbody>\n",
       "    <tr>\n",
       "      <th>41</th>\n",
       "      <td>1</td>\n",
       "      <td>[{u'extra_Kl15': False, u'soc': 36.8, u'extra_...</td>\n",
       "      <td>85985.0</td>\n",
       "      <td>85999</td>\n",
       "      <td>2015-10-01 21:53:19</td>\n",
       "      <td>{u'DistanceGps': {u'_v': 82476.1465249, u'_t':...</td>\n",
       "      <td>rotterdam-emoss\\2015-09-27-0000_weekly-export-...</td>\n",
       "      <td>1</td>\n",
       "      <td>Netherlands, Rotterdam, EMOSS</td>\n",
       "      <td>2015-09-30 22:00:00</td>\n",
       "      <td>...</td>\n",
       "      <td>40.0</td>\n",
       "      <td>64.8</td>\n",
       "      <td>18.0</td>\n",
       "      <td>36.8</td>\n",
       "      <td>51.6</td>\n",
       "      <td>2015-10-01</td>\n",
       "      <td>27-BFR-9</td>\n",
       "      <td>57b7032169e7d91cd03859cb</td>\n",
       "      <td>2015-09-30</td>\n",
       "      <td>2015-10-01</td>\n",
       "    </tr>\n",
       "    <tr>\n",
       "      <th>42</th>\n",
       "      <td>1</td>\n",
       "      <td>[{u'extra_Kl15': False, u'soc': 40.0, u'extra_...</td>\n",
       "      <td>46515.0</td>\n",
       "      <td>85096</td>\n",
       "      <td>2015-10-02 21:53:52</td>\n",
       "      <td>{u'DistanceGps': {u'_v': 35094.0758856, u'_t':...</td>\n",
       "      <td>rotterdam-emoss\\2015-09-27-0000_weekly-export-...</td>\n",
       "      <td>1</td>\n",
       "      <td>Netherlands, Rotterdam, EMOSS</td>\n",
       "      <td>2015-10-01 22:15:36</td>\n",
       "      <td>...</td>\n",
       "      <td>75.2</td>\n",
       "      <td>75.2</td>\n",
       "      <td>40.0</td>\n",
       "      <td>40.0</td>\n",
       "      <td>54.0</td>\n",
       "      <td>2015-10-02</td>\n",
       "      <td>27-BFR-9</td>\n",
       "      <td>57b7032169e7d91cd03859cc</td>\n",
       "      <td>2015-10-01</td>\n",
       "      <td>2015-10-02</td>\n",
       "    </tr>\n",
       "    <tr>\n",
       "      <th>181</th>\n",
       "      <td>1</td>\n",
       "      <td>[{u'extra_Kl15': False, u'soc': 76.0, u'extra_...</td>\n",
       "      <td>177970.0</td>\n",
       "      <td>55733</td>\n",
       "      <td>2016-01-28 14:30:16</td>\n",
       "      <td>{u'DistanceGps': {u'_v': 167491.85049, u'_t': ...</td>\n",
       "      <td>rotterdam-emoss\\2016-01-24-0000_weekly-export-...</td>\n",
       "      <td>1</td>\n",
       "      <td>Netherlands, Rotterdam, EMOSS</td>\n",
       "      <td>2016-01-27 23:01:23</td>\n",
       "      <td>...</td>\n",
       "      <td>10.0</td>\n",
       "      <td>99.2</td>\n",
       "      <td>10.0</td>\n",
       "      <td>76.0</td>\n",
       "      <td>24.4</td>\n",
       "      <td>2016-01-28</td>\n",
       "      <td>27-BFR-9</td>\n",
       "      <td>57b7046069e7d91cd0385a7b</td>\n",
       "      <td>2016-01-27</td>\n",
       "      <td>2016-01-28</td>\n",
       "    </tr>\n",
       "    <tr>\n",
       "      <th>371</th>\n",
       "      <td>1</td>\n",
       "      <td>[{u'extra_Kl15': False, u'soc': 90.0, u'extra_...</td>\n",
       "      <td>78665.0</td>\n",
       "      <td>85554</td>\n",
       "      <td>2016-07-08 21:59:58</td>\n",
       "      <td>{u'DistanceGps': {u'_v': 73061.6227455, u'_t':...</td>\n",
       "      <td>rotterdam-emoss\\2016-07-03-0000_weekly-export-...</td>\n",
       "      <td>1</td>\n",
       "      <td>Netherlands, Rotterdam, EMOSS</td>\n",
       "      <td>2016-07-07 22:14:04</td>\n",
       "      <td>...</td>\n",
       "      <td>99.2</td>\n",
       "      <td>100.0</td>\n",
       "      <td>70.0</td>\n",
       "      <td>90.0</td>\n",
       "      <td>48.0</td>\n",
       "      <td>2016-07-08</td>\n",
       "      <td>27-BFR-9</td>\n",
       "      <td>57b705c969e7d91cd0385b65</td>\n",
       "      <td>2016-07-07</td>\n",
       "      <td>2016-07-08</td>\n",
       "    </tr>\n",
       "  </tbody>\n",
       "</table>\n",
       "<p>4 rows × 21 columns</p>\n",
       "</div>"
      ],
      "text/plain": [
       "     Aggregation                                         DataPoints  Distance  \\\n",
       "41             1  [{u'extra_Kl15': False, u'soc': 36.8, u'extra_...   85985.0   \n",
       "42             1  [{u'extra_Kl15': False, u'soc': 40.0, u'extra_...   46515.0   \n",
       "181            1  [{u'extra_Kl15': False, u'soc': 76.0, u'extra_...  177970.0   \n",
       "371            1  [{u'extra_Kl15': False, u'soc': 90.0, u'extra_...   78665.0   \n",
       "\n",
       "     Duration             EndTime  \\\n",
       "41      85999 2015-10-01 21:53:19   \n",
       "42      85096 2015-10-02 21:53:52   \n",
       "181     55733 2016-01-28 14:30:16   \n",
       "371     85554 2016-07-08 21:59:58   \n",
       "\n",
       "                                                Extras  \\\n",
       "41   {u'DistanceGps': {u'_v': 82476.1465249, u'_t':...   \n",
       "42   {u'DistanceGps': {u'_v': 35094.0758856, u'_t':...   \n",
       "181  {u'DistanceGps': {u'_v': 167491.85049, u'_t': ...   \n",
       "371  {u'DistanceGps': {u'_v': 73061.6227455, u'_t':...   \n",
       "\n",
       "                                      FileRelativePath  Frequency  \\\n",
       "41   rotterdam-emoss\\2015-09-27-0000_weekly-export-...          1   \n",
       "42   rotterdam-emoss\\2015-09-27-0000_weekly-export-...          1   \n",
       "181  rotterdam-emoss\\2016-01-24-0000_weekly-export-...          1   \n",
       "371  rotterdam-emoss\\2016-07-03-0000_weekly-export-...          1   \n",
       "\n",
       "                             Owner           StartTime     ...      \\\n",
       "41   Netherlands, Rotterdam, EMOSS 2015-09-30 22:00:00     ...       \n",
       "42   Netherlands, Rotterdam, EMOSS 2015-10-01 22:15:36     ...       \n",
       "181  Netherlands, Rotterdam, EMOSS 2016-01-27 23:01:23     ...       \n",
       "371  Netherlands, Rotterdam, EMOSS 2016-07-07 22:14:04     ...       \n",
       "\n",
       "     StateOfChargeEnd  StateOfChargeMax  StateOfChargeMin  StateOfChargeStart  \\\n",
       "41               40.0              64.8              18.0                36.8   \n",
       "42               75.2              75.2              40.0                40.0   \n",
       "181              10.0              99.2              10.0                76.0   \n",
       "371              99.2             100.0              70.0                90.0   \n",
       "\n",
       "     StateOfChargeUp      TripId VehicleId                       _id  \\\n",
       "41              51.6  2015-10-01  27-BFR-9  57b7032169e7d91cd03859cb   \n",
       "42              54.0  2015-10-02  27-BFR-9  57b7032169e7d91cd03859cc   \n",
       "181             24.4  2016-01-28  27-BFR-9  57b7046069e7d91cd0385a7b   \n",
       "371             48.0  2016-07-08  27-BFR-9  57b705c969e7d91cd0385b65   \n",
       "\n",
       "           sday        eday  \n",
       "41   2015-09-30  2015-10-01  \n",
       "42   2015-10-01  2015-10-02  \n",
       "181  2016-01-27  2016-01-28  \n",
       "371  2016-07-07  2016-07-08  \n",
       "\n",
       "[4 rows x 21 columns]"
      ]
     },
     "execution_count": 16,
     "metadata": {},
     "output_type": "execute_result"
    }
   ],
   "source": [
    "PartnerData[PartnerData['sday'] <> PartnerData['eday']]"
   ]
  },
  {
   "cell_type": "markdown",
   "metadata": {},
   "source": [
    "# need to check whether there are multiple trips from a same vehicle in a single day"
   ]
  },
  {
   "cell_type": "code",
   "execution_count": 15,
   "metadata": {
    "collapsed": false
   },
   "outputs": [
    {
     "data": {
      "text/plain": [
       "4"
      ]
     },
     "execution_count": 15,
     "metadata": {},
     "output_type": "execute_result"
    }
   ],
   "source": [
    "sum(PartnerData['sday'] <> PartnerData['eday'])"
   ]
  },
  {
   "cell_type": "code",
   "execution_count": 12,
   "metadata": {
    "collapsed": false
   },
   "outputs": [
    {
     "data": {
      "text/html": [
       "<div>\n",
       "<table border=\"1\" class=\"dataframe\">\n",
       "  <thead>\n",
       "    <tr style=\"text-align: right;\">\n",
       "      <th></th>\n",
       "      <th>Aggregation</th>\n",
       "      <th>DataPoints</th>\n",
       "      <th>Distance</th>\n",
       "      <th>Duration</th>\n",
       "      <th>EndTime</th>\n",
       "      <th>Extras</th>\n",
       "      <th>FileRelativePath</th>\n",
       "      <th>Frequency</th>\n",
       "      <th>Owner</th>\n",
       "      <th>StartTime</th>\n",
       "      <th>...</th>\n",
       "      <th>StateOfChargeEnd</th>\n",
       "      <th>StateOfChargeMax</th>\n",
       "      <th>StateOfChargeMin</th>\n",
       "      <th>StateOfChargeStart</th>\n",
       "      <th>StateOfChargeUp</th>\n",
       "      <th>TripId</th>\n",
       "      <th>VehicleId</th>\n",
       "      <th>_id</th>\n",
       "      <th>sday</th>\n",
       "      <th>eday</th>\n",
       "    </tr>\n",
       "  </thead>\n",
       "  <tbody>\n",
       "    <tr>\n",
       "      <th>0</th>\n",
       "      <td>1</td>\n",
       "      <td>[{u'extra_Kl15': True, u'soc': 99.2, u'extra_E...</td>\n",
       "      <td>70640.0</td>\n",
       "      <td>20569</td>\n",
       "      <td>2015-08-31 10:54:07</td>\n",
       "      <td>{u'DistanceGps': {u'_v': 69608.2630917, u'_t':...</td>\n",
       "      <td>rotterdam-emoss\\2015-08-30-0000_weekly-export-...</td>\n",
       "      <td>1</td>\n",
       "      <td>Netherlands, Rotterdam, EMOSS</td>\n",
       "      <td>2015-08-31 05:11:18</td>\n",
       "      <td>...</td>\n",
       "      <td>64.8</td>\n",
       "      <td>99.2</td>\n",
       "      <td>64.8</td>\n",
       "      <td>99.2</td>\n",
       "      <td>2.0</td>\n",
       "      <td>2015-08-31</td>\n",
       "      <td>12-BFB-3</td>\n",
       "      <td>57b702c769e7d91cd0385999</td>\n",
       "      <td>2015-08-31</td>\n",
       "      <td>2015-08-31</td>\n",
       "    </tr>\n",
       "    <tr>\n",
       "      <th>1</th>\n",
       "      <td>1</td>\n",
       "      <td>[{u'extra_Kl15': True, u'soc': 100.0, u'extra_...</td>\n",
       "      <td>6880.0</td>\n",
       "      <td>2689</td>\n",
       "      <td>2015-09-01 14:38:42</td>\n",
       "      <td>{u'DistanceGps': {u'_v': 6645.73727664, u'_t':...</td>\n",
       "      <td>rotterdam-emoss\\2015-08-30-0000_weekly-export-...</td>\n",
       "      <td>1</td>\n",
       "      <td>Netherlands, Rotterdam, EMOSS</td>\n",
       "      <td>2015-09-01 13:53:53</td>\n",
       "      <td>...</td>\n",
       "      <td>95.2</td>\n",
       "      <td>100.0</td>\n",
       "      <td>95.2</td>\n",
       "      <td>100.0</td>\n",
       "      <td>0.0</td>\n",
       "      <td>2015-09-01</td>\n",
       "      <td>12-BFB-3</td>\n",
       "      <td>57b702c769e7d91cd038599a</td>\n",
       "      <td>2015-09-01</td>\n",
       "      <td>2015-09-01</td>\n",
       "    </tr>\n",
       "    <tr>\n",
       "      <th>2</th>\n",
       "      <td>1</td>\n",
       "      <td>[{u'extra_Kl15': True, u'soc': 99.2, u'extra_E...</td>\n",
       "      <td>30340.0</td>\n",
       "      <td>28257</td>\n",
       "      <td>2015-09-02 13:01:32</td>\n",
       "      <td>{u'DistanceGps': {u'_v': 26484.3894568, u'_t':...</td>\n",
       "      <td>rotterdam-emoss\\2015-08-30-0000_weekly-export-...</td>\n",
       "      <td>1</td>\n",
       "      <td>Netherlands, Rotterdam, EMOSS</td>\n",
       "      <td>2015-09-02 05:10:35</td>\n",
       "      <td>...</td>\n",
       "      <td>83.2</td>\n",
       "      <td>99.2</td>\n",
       "      <td>83.2</td>\n",
       "      <td>99.2</td>\n",
       "      <td>1.6</td>\n",
       "      <td>2015-09-02</td>\n",
       "      <td>12-BFB-3</td>\n",
       "      <td>57b702c769e7d91cd038599b</td>\n",
       "      <td>2015-09-02</td>\n",
       "      <td>2015-09-02</td>\n",
       "    </tr>\n",
       "    <tr>\n",
       "      <th>3</th>\n",
       "      <td>1</td>\n",
       "      <td>[{u'extra_Kl15': True, u'soc': 99.2, u'extra_E...</td>\n",
       "      <td>41145.0</td>\n",
       "      <td>20280</td>\n",
       "      <td>2015-09-03 16:14:20</td>\n",
       "      <td>{u'DistanceGps': {u'_v': 40634.3824437, u'_t':...</td>\n",
       "      <td>rotterdam-emoss\\2015-08-30-0000_weekly-export-...</td>\n",
       "      <td>1</td>\n",
       "      <td>Netherlands, Rotterdam, EMOSS</td>\n",
       "      <td>2015-09-03 10:36:20</td>\n",
       "      <td>...</td>\n",
       "      <td>79.2</td>\n",
       "      <td>99.2</td>\n",
       "      <td>79.2</td>\n",
       "      <td>99.2</td>\n",
       "      <td>2.0</td>\n",
       "      <td>2015-09-03</td>\n",
       "      <td>12-BFB-3</td>\n",
       "      <td>57b702c769e7d91cd038599c</td>\n",
       "      <td>2015-09-03</td>\n",
       "      <td>2015-09-03</td>\n",
       "    </tr>\n",
       "    <tr>\n",
       "      <th>4</th>\n",
       "      <td>1</td>\n",
       "      <td>[{u'extra_Kl15': True, u'soc': 99.2, u'extra_E...</td>\n",
       "      <td>114690.0</td>\n",
       "      <td>31579</td>\n",
       "      <td>2015-09-04 14:17:13</td>\n",
       "      <td>{u'DistanceGps': {u'_v': 112334.162098, u'_t':...</td>\n",
       "      <td>rotterdam-emoss\\2015-08-30-0000_weekly-export-...</td>\n",
       "      <td>1</td>\n",
       "      <td>Netherlands, Rotterdam, EMOSS</td>\n",
       "      <td>2015-09-04 05:30:54</td>\n",
       "      <td>...</td>\n",
       "      <td>48.8</td>\n",
       "      <td>99.2</td>\n",
       "      <td>48.8</td>\n",
       "      <td>99.2</td>\n",
       "      <td>13.6</td>\n",
       "      <td>2015-09-04</td>\n",
       "      <td>12-BFB-3</td>\n",
       "      <td>57b702c769e7d91cd038599d</td>\n",
       "      <td>2015-09-04</td>\n",
       "      <td>2015-09-04</td>\n",
       "    </tr>\n",
       "  </tbody>\n",
       "</table>\n",
       "<p>5 rows × 21 columns</p>\n",
       "</div>"
      ],
      "text/plain": [
       "   Aggregation                                         DataPoints  Distance  \\\n",
       "0            1  [{u'extra_Kl15': True, u'soc': 99.2, u'extra_E...   70640.0   \n",
       "1            1  [{u'extra_Kl15': True, u'soc': 100.0, u'extra_...    6880.0   \n",
       "2            1  [{u'extra_Kl15': True, u'soc': 99.2, u'extra_E...   30340.0   \n",
       "3            1  [{u'extra_Kl15': True, u'soc': 99.2, u'extra_E...   41145.0   \n",
       "4            1  [{u'extra_Kl15': True, u'soc': 99.2, u'extra_E...  114690.0   \n",
       "\n",
       "   Duration             EndTime  \\\n",
       "0     20569 2015-08-31 10:54:07   \n",
       "1      2689 2015-09-01 14:38:42   \n",
       "2     28257 2015-09-02 13:01:32   \n",
       "3     20280 2015-09-03 16:14:20   \n",
       "4     31579 2015-09-04 14:17:13   \n",
       "\n",
       "                                              Extras  \\\n",
       "0  {u'DistanceGps': {u'_v': 69608.2630917, u'_t':...   \n",
       "1  {u'DistanceGps': {u'_v': 6645.73727664, u'_t':...   \n",
       "2  {u'DistanceGps': {u'_v': 26484.3894568, u'_t':...   \n",
       "3  {u'DistanceGps': {u'_v': 40634.3824437, u'_t':...   \n",
       "4  {u'DistanceGps': {u'_v': 112334.162098, u'_t':...   \n",
       "\n",
       "                                    FileRelativePath  Frequency  \\\n",
       "0  rotterdam-emoss\\2015-08-30-0000_weekly-export-...          1   \n",
       "1  rotterdam-emoss\\2015-08-30-0000_weekly-export-...          1   \n",
       "2  rotterdam-emoss\\2015-08-30-0000_weekly-export-...          1   \n",
       "3  rotterdam-emoss\\2015-08-30-0000_weekly-export-...          1   \n",
       "4  rotterdam-emoss\\2015-08-30-0000_weekly-export-...          1   \n",
       "\n",
       "                           Owner           StartTime     ...      \\\n",
       "0  Netherlands, Rotterdam, EMOSS 2015-08-31 05:11:18     ...       \n",
       "1  Netherlands, Rotterdam, EMOSS 2015-09-01 13:53:53     ...       \n",
       "2  Netherlands, Rotterdam, EMOSS 2015-09-02 05:10:35     ...       \n",
       "3  Netherlands, Rotterdam, EMOSS 2015-09-03 10:36:20     ...       \n",
       "4  Netherlands, Rotterdam, EMOSS 2015-09-04 05:30:54     ...       \n",
       "\n",
       "   StateOfChargeEnd  StateOfChargeMax  StateOfChargeMin  StateOfChargeStart  \\\n",
       "0              64.8              99.2              64.8                99.2   \n",
       "1              95.2             100.0              95.2               100.0   \n",
       "2              83.2              99.2              83.2                99.2   \n",
       "3              79.2              99.2              79.2                99.2   \n",
       "4              48.8              99.2              48.8                99.2   \n",
       "\n",
       "   StateOfChargeUp      TripId VehicleId                       _id  \\\n",
       "0              2.0  2015-08-31  12-BFB-3  57b702c769e7d91cd0385999   \n",
       "1              0.0  2015-09-01  12-BFB-3  57b702c769e7d91cd038599a   \n",
       "2              1.6  2015-09-02  12-BFB-3  57b702c769e7d91cd038599b   \n",
       "3              2.0  2015-09-03  12-BFB-3  57b702c769e7d91cd038599c   \n",
       "4             13.6  2015-09-04  12-BFB-3  57b702c769e7d91cd038599d   \n",
       "\n",
       "         sday        eday  \n",
       "0  2015-08-31  2015-08-31  \n",
       "1  2015-09-01  2015-09-01  \n",
       "2  2015-09-02  2015-09-02  \n",
       "3  2015-09-03  2015-09-03  \n",
       "4  2015-09-04  2015-09-04  \n",
       "\n",
       "[5 rows x 21 columns]"
      ]
     },
     "execution_count": 12,
     "metadata": {},
     "output_type": "execute_result"
    }
   ],
   "source": [
    "PartnerData.head(5)"
   ]
  },
  {
   "cell_type": "code",
   "execution_count": null,
   "metadata": {
    "collapsed": true
   },
   "outputs": [],
   "source": [
    "\n",
    "\n"
   ]
  },
  {
   "cell_type": "code",
   "execution_count": 3,
   "metadata": {
    "collapsed": false
   },
   "outputs": [
    {
     "data": {
      "text/plain": [
       "(735602.0, 736300.0)"
      ]
     },
     "execution_count": 3,
     "metadata": {},
     "output_type": "execute_result"
    },
    {
     "data": {
      "image/png": "[encoded data removed]",
      "text/plain": [
       "<matplotlib.figure.Figure at 0xa30daccc0>"
      ]
     },
     "metadata": {},
     "output_type": "display_data"
    }
   ],
   "source": [
    "# plotting data availability\n",
    "fig = plt.figure(figsize=(20, 20))\n",
    "ax1 = fig.add_subplot(2,2,1)\n",
    "\n",
    "for i in PartnerData['VehicleId'].unique():\n",
    "    datelist = []\n",
    "    selVehData = PartnerData[PartnerData['VehicleId']==i]\n",
    "    curID = selVehData['VID'].iloc[0]\n",
    "    sdate = selVehData['TripId'].min()\n",
    "    edate = selVehData['TripId'].max()\n",
    "    diffdate = edate - sdate\n",
    "    dateswitch = 0\n",
    "    curdate = sdate\n",
    "    for j in range(0, int(diffdate.days)):\n",
    "        predate = curdate                          #previous date\n",
    "        curdate = curdate + dt.timedelta(days=1)     #current date\n",
    "        if any(selVehData['TripId'] == curdate) and dateswitch == 1:\n",
    "            sdate = curdate\n",
    "            dateswitch = 0\n",
    "        if (not any(selVehData['TripId'] == curdate)) and dateswitch == 0:   #if current date is not available, call plotting\n",
    "            #pltmain(sdate, predate)\n",
    "            datelist.append((mpl.dates.date2num(sdate), mpl.dates.date2num(curdate)-mpl.dates.date2num(sdate)))\n",
    "            dateswitch = 1\n",
    "    ax1.broken_barh(datelist, (curID,0.5))\n",
    "ax1.xaxis_date()\n",
    "ax1.set_xlim(PartnerData['TripId'].min(), PartnerData['TripId'].max())"
   ]
  },
  {
   "cell_type": "code",
   "execution_count": null,
   "metadata": {
    "collapsed": false
   },
   "outputs": [],
   "source": [
    "PartnerData.head(5)"
   ]
  },
  {
   "cell_type": "code",
   "execution_count": null,
   "metadata": {
    "collapsed": false
   },
   "outputs": [],
   "source": [
    "mpl.dates.date2num(dt.datetime.now())"
   ]
  },
  {
   "cell_type": "code",
   "execution_count": null,
   "metadata": {
    "collapsed": false
   },
   "outputs": [],
   "source": [
    "curdate = sdate + dt.timedelta(days=1)\n",
    "print curdate\n",
    "any(selVehData['TripId'] == curdate)"
   ]
  },
  {
   "cell_type": "code",
   "execution_count": null,
   "metadata": {
    "collapsed": false
   },
   "outputs": [],
   "source": [
    "#import datetime\n",
    "#tt = datetime.datetime.strptime(PartnerData['TripId'], \"%Y-%m-%d\")\n",
    "PartnerData['TripId'] = pd.to_datetime(PartnerData['TripId'])\n",
    "#tt.apply(lambda x: x.strftime('%Y-%m-%d'))"
   ]
  },
  {
   "cell_type": "code",
   "execution_count": null,
   "metadata": {
    "collapsed": true
   },
   "outputs": [],
   "source": [
    "fig = plt.figure(figsize=(20, 20))\n",
    "ax1 = fig.add_subplot(2,2,1)\n",
    "#for i in range(0, PartnerData['TripId'].count()):\n",
    "ax1.broken_barh(PartnerData['TripId'], PartnerData['VID'])"
   ]
  },
  {
   "cell_type": "code",
   "execution_count": null,
   "metadata": {
    "collapsed": false
   },
   "outputs": [],
   "source": [
    "cursor = coll.find(\n",
    "        {\"$and\": [\n",
    "                 {\"Owner\": \"United Kingdom, London, UPS\"},\n",
    "                 {\"Distance\": {\"$gt\": 0}}\n",
    "                ]\n",
    "        })\n",
    "UPSLondon = pd.DataFrame(list(cursor))"
   ]
  },
  {
   "cell_type": "code",
   "execution_count": null,
   "metadata": {
    "collapsed": true
   },
   "outputs": [],
   "source": [
    "cursor2 = coll.aggregate([\n",
    "    {\"$match\": {\"$and\": [\n",
    "                        {\"Owner\": vehlist.iloc[0,1]}, \n",
    "                        {\"Distance\": {\"$gt\": 0}}\n",
    "                ]}\n",
    "    },\n",
    "    {\"$group\": {\"_id\": \"$VehicleId\", \"AverageDistance\": {\"$avg\": \"$Distance\"}}}\n",
    "])"
   ]
  },
  {
   "cell_type": "code",
   "execution_count": null,
   "metadata": {
    "collapsed": true
   },
   "outputs": [],
   "source": [
    "print PartnerData.head(n=10)\n",
    "PartnerData.iloc[0,5]\n",
    "len(PartnerData['VehicleId'].unique())"
   ]
  },
  {
   "cell_type": "code",
   "execution_count": null,
   "metadata": {
    "collapsed": false
   },
   "outputs": [],
   "source": [
    "cursor1 = coll.aggregate([\n",
    "        {\"$group\": {\"_id\": \"$Owner\", \"NumberOfTrips\": {\"$sum\": 1}}}\n",
    "    ])\n",
    "array = list(cursor1)\n",
    "vehlist = pd.DataFrame(array)    #list of operation partners\n",
    "curpartner = vehlist.iloc[7,1]   #current partner can set up a loop  ********************\n",
    "print curpartner"
   ]
  },
  {
   "cell_type": "code",
   "execution_count": null,
   "metadata": {
    "collapsed": true
   },
   "outputs": [],
   "source": []
  }
 ],
 "metadata": {
  "anaconda-cloud": {},
  "kernelspec": {
   "display_name": "Python [Root]",
   "language": "python",
   "name": "Python [Root]"
  },
  "language_info": {
   "codemirror_mode": {
    "name": "ipython",
    "version": 2
   },
   "file_extension": ".py",
   "mimetype": "text/x-python",
   "name": "python",
   "nbconvert_exporter": "python",
   "pygments_lexer": "ipython2",
   "version": "2.7.12"
  }
 },
 "nbformat": 4,
 "nbformat_minor": 0
}
