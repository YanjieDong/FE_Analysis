{
 "cells": [
  {
   "cell_type": "code",
   "execution_count": 1,
   "metadata": {
    "collapsed": false
   },
   "outputs": [],
   "source": [
    "from pymongo import MongoClient\n",
    "import pandas as pd\n",
    "import matplotlib.pyplot as plt\n",
    "%matplotlib inline  \n",
    "\n",
    "client = MongoClient(port=27123)\n",
    "db = client.frevue_data\n",
    "coll = db.Trips\n",
    "#cursor = coll.find({\"Owner\": \"United Kingdom, London, UPS\"})"
   ]
  },
  {
   "cell_type": "code",
   "execution_count": 22,
   "metadata": {
    "collapsed": false
   },
   "outputs": [],
   "source": [
    "cursor1 = coll.aggregate([\n",
    "        {\"$group\": {\"_id\": \"$Owner\", \"NumberOfTrips\": {\"$sum\": 1}}}\n",
    "    ])\n",
    "# cursor2 = coll.aggregate([\n",
    "#     {\"$match\": {\"$and\": [\n",
    "#                         {\"Owner\": \"United Kingdom, London, UPS\"}, \n",
    "#                         {\"Distance\": {\"$gt\": 0}}\n",
    "#                 ]}\n",
    "#     },\n",
    "#     {\"$group\": {\"_id\": \"$VehicleId\", \"AverageDistance\": {\"$avg\": \"$Distance\"}}}\n",
    "# ])"
   ]
  },
  {
   "cell_type": "code",
   "execution_count": 42,
   "metadata": {
    "collapsed": false,
    "scrolled": true
   },
   "outputs": [
    {
     "name": "stdout",
     "output_type": "stream",
     "text": [
      "United Kingdom, London, UPS\n",
      "49\n",
      "37\n",
      "        numofdays\n",
      "newVID           \n",
      "128217         64\n",
      "128218        116\n",
      "128220         45\n",
      "128225         58\n",
      "128226         77\n",
      "128227         15\n",
      "128228        166\n",
      "128230         73\n",
      "128231          4\n",
      "128233         17\n",
      "128234        106\n",
      "128235        167\n",
      "128236        108\n",
      "128237          1\n",
      "128238        136\n",
      "128239        116\n",
      "128240         55\n",
      "128313        117\n",
      "128315        100\n",
      "128317        215\n",
      "128318        111\n",
      "128319          2\n",
      "128320        109\n",
      "128321        117\n",
      "128322          9\n",
      "128323        265\n",
      "128325         37\n",
      "129082        160\n",
      "129083        172\n",
      "129084        200\n",
      "129085        145\n",
      "129086        250\n",
      "129087        225\n",
      "129088        174\n",
      "129089        139\n",
      "129090        103\n",
      "129091        249\n"
     ]
    }
   ],
   "source": [
    "# this section check the number of partners in the database\n",
    "# choose a partner and check the number of unique vehicles\n",
    "# then for each vehicle check the number of available days\n",
    "\n",
    "cursor1 = coll.aggregate([\n",
    "        {\"$group\": {\"_id\": \"$Owner\", \"NumberOfTrips\": {\"$sum\": 1}}}\n",
    "    ])\n",
    "array = list(cursor1)\n",
    "vehlist = pd.DataFrame(array)    #list of operation partners\n",
    "curpartner = vehlist.iloc[10,1]   #current partner can set up a loop  ********************\n",
    "print curpartner\n",
    "\n",
    "# check valid recordings (distance bigger than 0)\n",
    "cursor2 = coll.find(\n",
    "        {\"$and\": [\n",
    "                 {\"Owner\": curpartner},\n",
    "                 {\"Distance\": {\"$gt\": 0}}\n",
    "                ]\n",
    "        })\n",
    "PartnerData = pd.DataFrame(list(cursor2))\n",
    "Veh_num = len(PartnerData['VehicleId'].unique()) #count the number of vehilces\n",
    "print Veh_num    #number of vehicles\n",
    "\n",
    "# check how many days worth of data is availale for each vehicle\n",
    "PartnerData['newVID'] = PartnerData['VehicleId'].str[:6] ### ONLY FOR UPS (their data seems to have duplicate vehilces)\n",
    "Veh_num2 = len(PartnerData['newVID'].unique())\n",
    "print Veh_num2\n",
    "veh_days = pd.DataFrame(PartnerData.groupby('newVID').size().rename('numofdays'))\n",
    "print veh_days\n",
    "\n"
   ]
  },
  {
   "cell_type": "code",
   "execution_count": 10,
   "metadata": {
    "collapsed": false
   },
   "outputs": [],
   "source": [
    "cursor2 = coll.aggregate([\n",
    "        {\"$match\": {\"$and\": [\n",
    "                 {\"Owner\": curpartner},\n",
    "                 {\"Distance\": {\"$gt\": 0}}\n",
    "                ]}},\n",
    "        {\"$group\": {\"_id\": \"$VehicleId\", \"numofdays\": {\"$sum\": 1}}}\n",
    "        ])\n"
   ]
  },
  {
   "cell_type": "code",
   "execution_count": 44,
   "metadata": {
    "collapsed": false
   },
   "outputs": [
    {
     "data": {
      "text/plain": [
       "Index([       u'Aggregation',         u'DataPoints',           u'Distance',\n",
       "                 u'Duration',            u'EndTime',             u'Extras',\n",
       "         u'FileRelativePath',          u'Frequency',              u'Owner',\n",
       "                u'StartTime',  u'StateOfChargeDown',   u'StateOfChargeEnd',\n",
       "         u'StateOfChargeMax',   u'StateOfChargeMin', u'StateOfChargeStart',\n",
       "          u'StateOfChargeUp',             u'TripId',          u'VehicleId',\n",
       "                      u'_id',             u'newVID'],\n",
       "      dtype='object')"
      ]
     },
     "execution_count": 44,
     "metadata": {},
     "output_type": "execute_result"
    }
   ],
   "source": [
    "PartnerData.columns"
   ]
  },
  {
   "cell_type": "code",
   "execution_count": 46,
   "metadata": {
    "collapsed": false
   },
   "outputs": [
    {
     "data": {
      "text/plain": [
       "u'2016-08-02'"
      ]
     },
     "execution_count": 46,
     "metadata": {},
     "output_type": "execute_result"
    }
   ],
   "source": [
    "PartnerData['TripId'].max()"
   ]
  },
  {
   "cell_type": "code",
   "execution_count": 18,
   "metadata": {
    "collapsed": false
   },
   "outputs": [],
   "source": [
    "PartnerData['newVID'] = PartnerData['VehicleId'].str[:6]"
   ]
  },
  {
   "cell_type": "code",
   "execution_count": 21,
   "metadata": {
    "collapsed": false
   },
   "outputs": [
    {
     "data": {
      "text/plain": [
       "37"
      ]
     },
     "execution_count": 21,
     "metadata": {},
     "output_type": "execute_result"
    }
   ],
   "source": [
    "len(PartnerData['newVID'].unique())"
   ]
  },
  {
   "cell_type": "code",
   "execution_count": 41,
   "metadata": {
    "collapsed": false
   },
   "outputs": [
    {
     "ename": "KeyError",
     "evalue": "'newVID'",
     "output_type": "error",
     "traceback": [
      "\u001b[1;31m---------------------------------------------------------------------------\u001b[0m",
      "\u001b[1;31mKeyError\u001b[0m                                  Traceback (most recent call last)",
      "\u001b[1;32m<ipython-input-41-e6037694d837>\u001b[0m in \u001b[0;36m<module>\u001b[1;34m()\u001b[0m\n\u001b[0;32m      1\u001b[0m \u001b[0mfig\u001b[0m \u001b[1;33m=\u001b[0m \u001b[0mplt\u001b[0m\u001b[1;33m.\u001b[0m\u001b[0mfigure\u001b[0m\u001b[1;33m(\u001b[0m\u001b[1;33m)\u001b[0m\u001b[1;33m\u001b[0m\u001b[0m\n\u001b[0;32m      2\u001b[0m \u001b[0max1\u001b[0m \u001b[1;33m=\u001b[0m \u001b[0mfig\u001b[0m\u001b[1;33m.\u001b[0m\u001b[0madd_subplot\u001b[0m\u001b[1;33m(\u001b[0m\u001b[1;36m2\u001b[0m\u001b[1;33m,\u001b[0m\u001b[1;36m2\u001b[0m\u001b[1;33m,\u001b[0m\u001b[1;36m1\u001b[0m\u001b[1;33m)\u001b[0m\u001b[1;33m\u001b[0m\u001b[0m\n\u001b[1;32m----> 3\u001b[1;33m \u001b[0max1\u001b[0m\u001b[1;33m.\u001b[0m\u001b[0mbar\u001b[0m\u001b[1;33m(\u001b[0m\u001b[0mveh_days\u001b[0m\u001b[1;33m[\u001b[0m\u001b[1;34m'newVID'\u001b[0m\u001b[1;33m]\u001b[0m\u001b[1;33m,\u001b[0m \u001b[0mveh_days\u001b[0m\u001b[1;33m[\u001b[0m\u001b[1;34m'numofdays'\u001b[0m\u001b[1;33m]\u001b[0m\u001b[1;33m)\u001b[0m\u001b[1;33m\u001b[0m\u001b[0m\n\u001b[0m",
      "\u001b[1;32mC:\\Anaconda2\\lib\\site-packages\\pandas\\core\\frame.pyc\u001b[0m in \u001b[0;36m__getitem__\u001b[1;34m(self, key)\u001b[0m\n\u001b[0;32m   1995\u001b[0m             \u001b[1;32mreturn\u001b[0m \u001b[0mself\u001b[0m\u001b[1;33m.\u001b[0m\u001b[0m_getitem_multilevel\u001b[0m\u001b[1;33m(\u001b[0m\u001b[0mkey\u001b[0m\u001b[1;33m)\u001b[0m\u001b[1;33m\u001b[0m\u001b[0m\n\u001b[0;32m   1996\u001b[0m         \u001b[1;32melse\u001b[0m\u001b[1;33m:\u001b[0m\u001b[1;33m\u001b[0m\u001b[0m\n\u001b[1;32m-> 1997\u001b[1;33m             \u001b[1;32mreturn\u001b[0m \u001b[0mself\u001b[0m\u001b[1;33m.\u001b[0m\u001b[0m_getitem_column\u001b[0m\u001b[1;33m(\u001b[0m\u001b[0mkey\u001b[0m\u001b[1;33m)\u001b[0m\u001b[1;33m\u001b[0m\u001b[0m\n\u001b[0m\u001b[0;32m   1998\u001b[0m \u001b[1;33m\u001b[0m\u001b[0m\n\u001b[0;32m   1999\u001b[0m     \u001b[1;32mdef\u001b[0m \u001b[0m_getitem_column\u001b[0m\u001b[1;33m(\u001b[0m\u001b[0mself\u001b[0m\u001b[1;33m,\u001b[0m \u001b[0mkey\u001b[0m\u001b[1;33m)\u001b[0m\u001b[1;33m:\u001b[0m\u001b[1;33m\u001b[0m\u001b[0m\n",
      "\u001b[1;32mC:\\Anaconda2\\lib\\site-packages\\pandas\\core\\frame.pyc\u001b[0m in \u001b[0;36m_getitem_column\u001b[1;34m(self, key)\u001b[0m\n\u001b[0;32m   2002\u001b[0m         \u001b[1;31m# get column\u001b[0m\u001b[1;33m\u001b[0m\u001b[1;33m\u001b[0m\u001b[0m\n\u001b[0;32m   2003\u001b[0m         \u001b[1;32mif\u001b[0m \u001b[0mself\u001b[0m\u001b[1;33m.\u001b[0m\u001b[0mcolumns\u001b[0m\u001b[1;33m.\u001b[0m\u001b[0mis_unique\u001b[0m\u001b[1;33m:\u001b[0m\u001b[1;33m\u001b[0m\u001b[0m\n\u001b[1;32m-> 2004\u001b[1;33m             \u001b[1;32mreturn\u001b[0m \u001b[0mself\u001b[0m\u001b[1;33m.\u001b[0m\u001b[0m_get_item_cache\u001b[0m\u001b[1;33m(\u001b[0m\u001b[0mkey\u001b[0m\u001b[1;33m)\u001b[0m\u001b[1;33m\u001b[0m\u001b[0m\n\u001b[0m\u001b[0;32m   2005\u001b[0m \u001b[1;33m\u001b[0m\u001b[0m\n\u001b[0;32m   2006\u001b[0m         \u001b[1;31m# duplicate columns & possible reduce dimensionality\u001b[0m\u001b[1;33m\u001b[0m\u001b[1;33m\u001b[0m\u001b[0m\n",
      "\u001b[1;32mC:\\Anaconda2\\lib\\site-packages\\pandas\\core\\generic.pyc\u001b[0m in \u001b[0;36m_get_item_cache\u001b[1;34m(self, item)\u001b[0m\n\u001b[0;32m   1348\u001b[0m         \u001b[0mres\u001b[0m \u001b[1;33m=\u001b[0m \u001b[0mcache\u001b[0m\u001b[1;33m.\u001b[0m\u001b[0mget\u001b[0m\u001b[1;33m(\u001b[0m\u001b[0mitem\u001b[0m\u001b[1;33m)\u001b[0m\u001b[1;33m\u001b[0m\u001b[0m\n\u001b[0;32m   1349\u001b[0m         \u001b[1;32mif\u001b[0m \u001b[0mres\u001b[0m \u001b[1;32mis\u001b[0m \u001b[0mNone\u001b[0m\u001b[1;33m:\u001b[0m\u001b[1;33m\u001b[0m\u001b[0m\n\u001b[1;32m-> 1350\u001b[1;33m             \u001b[0mvalues\u001b[0m \u001b[1;33m=\u001b[0m \u001b[0mself\u001b[0m\u001b[1;33m.\u001b[0m\u001b[0m_data\u001b[0m\u001b[1;33m.\u001b[0m\u001b[0mget\u001b[0m\u001b[1;33m(\u001b[0m\u001b[0mitem\u001b[0m\u001b[1;33m)\u001b[0m\u001b[1;33m\u001b[0m\u001b[0m\n\u001b[0m\u001b[0;32m   1351\u001b[0m             \u001b[0mres\u001b[0m \u001b[1;33m=\u001b[0m \u001b[0mself\u001b[0m\u001b[1;33m.\u001b[0m\u001b[0m_box_item_values\u001b[0m\u001b[1;33m(\u001b[0m\u001b[0mitem\u001b[0m\u001b[1;33m,\u001b[0m \u001b[0mvalues\u001b[0m\u001b[1;33m)\u001b[0m\u001b[1;33m\u001b[0m\u001b[0m\n\u001b[0;32m   1352\u001b[0m             \u001b[0mcache\u001b[0m\u001b[1;33m[\u001b[0m\u001b[0mitem\u001b[0m\u001b[1;33m]\u001b[0m \u001b[1;33m=\u001b[0m \u001b[0mres\u001b[0m\u001b[1;33m\u001b[0m\u001b[0m\n",
      "\u001b[1;32mC:\\Anaconda2\\lib\\site-packages\\pandas\\core\\internals.pyc\u001b[0m in \u001b[0;36mget\u001b[1;34m(self, item, fastpath)\u001b[0m\n\u001b[0;32m   3288\u001b[0m \u001b[1;33m\u001b[0m\u001b[0m\n\u001b[0;32m   3289\u001b[0m             \u001b[1;32mif\u001b[0m \u001b[1;32mnot\u001b[0m \u001b[0misnull\u001b[0m\u001b[1;33m(\u001b[0m\u001b[0mitem\u001b[0m\u001b[1;33m)\u001b[0m\u001b[1;33m:\u001b[0m\u001b[1;33m\u001b[0m\u001b[0m\n\u001b[1;32m-> 3290\u001b[1;33m                 \u001b[0mloc\u001b[0m \u001b[1;33m=\u001b[0m \u001b[0mself\u001b[0m\u001b[1;33m.\u001b[0m\u001b[0mitems\u001b[0m\u001b[1;33m.\u001b[0m\u001b[0mget_loc\u001b[0m\u001b[1;33m(\u001b[0m\u001b[0mitem\u001b[0m\u001b[1;33m)\u001b[0m\u001b[1;33m\u001b[0m\u001b[0m\n\u001b[0m\u001b[0;32m   3291\u001b[0m             \u001b[1;32melse\u001b[0m\u001b[1;33m:\u001b[0m\u001b[1;33m\u001b[0m\u001b[0m\n\u001b[0;32m   3292\u001b[0m                 \u001b[0mindexer\u001b[0m \u001b[1;33m=\u001b[0m \u001b[0mnp\u001b[0m\u001b[1;33m.\u001b[0m\u001b[0marange\u001b[0m\u001b[1;33m(\u001b[0m\u001b[0mlen\u001b[0m\u001b[1;33m(\u001b[0m\u001b[0mself\u001b[0m\u001b[1;33m.\u001b[0m\u001b[0mitems\u001b[0m\u001b[1;33m)\u001b[0m\u001b[1;33m)\u001b[0m\u001b[1;33m[\u001b[0m\u001b[0misnull\u001b[0m\u001b[1;33m(\u001b[0m\u001b[0mself\u001b[0m\u001b[1;33m.\u001b[0m\u001b[0mitems\u001b[0m\u001b[1;33m)\u001b[0m\u001b[1;33m]\u001b[0m\u001b[1;33m\u001b[0m\u001b[0m\n",
      "\u001b[1;32mC:\\Anaconda2\\lib\\site-packages\\pandas\\indexes\\base.pyc\u001b[0m in \u001b[0;36mget_loc\u001b[1;34m(self, key, method, tolerance)\u001b[0m\n\u001b[0;32m   1945\u001b[0m                 \u001b[1;32mreturn\u001b[0m \u001b[0mself\u001b[0m\u001b[1;33m.\u001b[0m\u001b[0m_engine\u001b[0m\u001b[1;33m.\u001b[0m\u001b[0mget_loc\u001b[0m\u001b[1;33m(\u001b[0m\u001b[0mkey\u001b[0m\u001b[1;33m)\u001b[0m\u001b[1;33m\u001b[0m\u001b[0m\n\u001b[0;32m   1946\u001b[0m             \u001b[1;32mexcept\u001b[0m \u001b[0mKeyError\u001b[0m\u001b[1;33m:\u001b[0m\u001b[1;33m\u001b[0m\u001b[0m\n\u001b[1;32m-> 1947\u001b[1;33m                 \u001b[1;32mreturn\u001b[0m \u001b[0mself\u001b[0m\u001b[1;33m.\u001b[0m\u001b[0m_engine\u001b[0m\u001b[1;33m.\u001b[0m\u001b[0mget_loc\u001b[0m\u001b[1;33m(\u001b[0m\u001b[0mself\u001b[0m\u001b[1;33m.\u001b[0m\u001b[0m_maybe_cast_indexer\u001b[0m\u001b[1;33m(\u001b[0m\u001b[0mkey\u001b[0m\u001b[1;33m)\u001b[0m\u001b[1;33m)\u001b[0m\u001b[1;33m\u001b[0m\u001b[0m\n\u001b[0m\u001b[0;32m   1948\u001b[0m \u001b[1;33m\u001b[0m\u001b[0m\n\u001b[0;32m   1949\u001b[0m         \u001b[0mindexer\u001b[0m \u001b[1;33m=\u001b[0m \u001b[0mself\u001b[0m\u001b[1;33m.\u001b[0m\u001b[0mget_indexer\u001b[0m\u001b[1;33m(\u001b[0m\u001b[1;33m[\u001b[0m\u001b[0mkey\u001b[0m\u001b[1;33m]\u001b[0m\u001b[1;33m,\u001b[0m \u001b[0mmethod\u001b[0m\u001b[1;33m=\u001b[0m\u001b[0mmethod\u001b[0m\u001b[1;33m,\u001b[0m \u001b[0mtolerance\u001b[0m\u001b[1;33m=\u001b[0m\u001b[0mtolerance\u001b[0m\u001b[1;33m)\u001b[0m\u001b[1;33m\u001b[0m\u001b[0m\n",
      "\u001b[1;32mpandas\\index.pyx\u001b[0m in \u001b[0;36mpandas.index.IndexEngine.get_loc (pandas\\index.c:4154)\u001b[1;34m()\u001b[0m\n",
      "\u001b[1;32mpandas\\index.pyx\u001b[0m in \u001b[0;36mpandas.index.IndexEngine.get_loc (pandas\\index.c:4018)\u001b[1;34m()\u001b[0m\n",
      "\u001b[1;32mpandas\\hashtable.pyx\u001b[0m in \u001b[0;36mpandas.hashtable.PyObjectHashTable.get_item (pandas\\hashtable.c:12368)\u001b[1;34m()\u001b[0m\n",
      "\u001b[1;32mpandas\\hashtable.pyx\u001b[0m in \u001b[0;36mpandas.hashtable.PyObjectHashTable.get_item (pandas\\hashtable.c:12322)\u001b[1;34m()\u001b[0m\n",
      "\u001b[1;31mKeyError\u001b[0m: 'newVID'"
     ]
    },
    {
     "data": {
      "image/png": "[encoded data removed]",
      "text/plain": [
       "<matplotlib.figure.Figure at 0xc935c18>"
      ]
     },
     "metadata": {},
     "output_type": "display_data"
    }
   ],
   "source": [
    "fig = plt.figure()\n",
    "ax1 = fig.add_subplot(2,2,1)\n",
    "ax1.bar(veh_days['newVID'], veh_days['numofdays'])"
   ]
  },
  {
   "cell_type": "code",
   "execution_count": 15,
   "metadata": {
    "collapsed": false
   },
   "outputs": [],
   "source": [
    "cursor = coll.find(\n",
    "        {\"$and\": [\n",
    "                 {\"Owner\": \"United Kingdom, London, UPS\"},\n",
    "                 {\"Distance\": {\"$gt\": 0}}\n",
    "                ]\n",
    "        })\n",
    "UPSLondon = pd.DataFrame(list(cursor))"
   ]
  },
  {
   "cell_type": "code",
   "execution_count": 51,
   "metadata": {
    "collapsed": true
   },
   "outputs": [],
   "source": [
    "cursor2 = coll.aggregate([\n",
    "    {\"$match\": {\"$and\": [\n",
    "                        {\"Owner\": vehlist.iloc[0,1]}, \n",
    "                        {\"Distance\": {\"$gt\": 0}}\n",
    "                ]}\n",
    "    },\n",
    "    {\"$group\": {\"_id\": \"$VehicleId\", \"AverageDistance\": {\"$avg\": \"$Distance\"}}}\n",
    "])"
   ]
  },
  {
   "cell_type": "code",
   "execution_count": 39,
   "metadata": {
    "collapsed": false
   },
   "outputs": [
    {
     "name": "stdout",
     "output_type": "stream",
     "text": [
      "   Aggregation DataPoints     Distance  Duration             EndTime  \\\n",
      "0            0       None      48000.0         0 2016-08-01 22:00:00   \n",
      "1            0       None      58000.0         0 2016-08-01 22:00:00   \n",
      "2            0       None  500052000.0         0 2016-02-25 23:00:00   \n",
      "3            0       None      44000.0         0 2016-02-29 23:00:00   \n",
      "4            0       None      49000.0         0 2016-03-01 23:00:00   \n",
      "5            0       None      54000.0         0 2016-03-02 23:00:00   \n",
      "6            0       None      48000.0         0 2016-03-03 23:00:00   \n",
      "7            0       None      53000.0         0 2016-03-06 23:00:00   \n",
      "8            0       None      52000.0         0 2016-03-07 23:00:00   \n",
      "9            0       None      54000.0         0 2016-03-08 23:00:00   \n",
      "\n",
      "                                              Extras  \\\n",
      "0  {u'Driver': {u'_v': u'INSULACO', u'_t': u'Mong...   \n",
      "1  {u'Driver': {u'_v': u'PAGE', u'_t': u'MongoDB....   \n",
      "2  {u'Driver': {u'_v': u'LAMBERT', u'_t': u'Mongo...   \n",
      "3  {u'Driver': {u'_v': u'LAMBERT', u'_t': u'Mongo...   \n",
      "4  {u'Driver': {u'_v': u'LAMBERT', u'_t': u'Mongo...   \n",
      "5  {u'Driver': {u'_v': u'LAMBERT', u'_t': u'Mongo...   \n",
      "6  {u'Driver': {u'_v': u'LAMBERT', u'_t': u'Mongo...   \n",
      "7  {u'Driver': {u'_v': u'LAMBERT', u'_t': u'Mongo...   \n",
      "8  {u'Driver': {u'_v': u'LAMBERT', u'_t': u'Mongo...   \n",
      "9  {u'Driver': {u'_v': u'LAMBERT', u'_t': u'Mongo...   \n",
      "\n",
      "                                    FileRelativePath  Frequency  \\\n",
      "0  wake\\Csv_London\\MODEC-NEW.xlsx_128225-YJ08ZHU.csv      86400   \n",
      "1  wake\\Csv_London\\MODEC-NEW.xlsx_128226-YJ08ZHV.csv      86400   \n",
      "2  wake\\Csv_London\\MODEC-NEW.xlsx_128234-YJ08YZE.csv      86400   \n",
      "3  wake\\Csv_London\\MODEC-NEW.xlsx_128234-YJ08YZE.csv      86400   \n",
      "4  wake\\Csv_London\\MODEC-NEW.xlsx_128234-YJ08YZE.csv      86400   \n",
      "5  wake\\Csv_London\\MODEC-NEW.xlsx_128234-YJ08YZE.csv      86400   \n",
      "6  wake\\Csv_London\\MODEC-NEW.xlsx_128234-YJ08YZE.csv      86400   \n",
      "7  wake\\Csv_London\\MODEC-NEW.xlsx_128234-YJ08YZE.csv      86400   \n",
      "8  wake\\Csv_London\\MODEC-NEW.xlsx_128234-YJ08YZE.csv      86400   \n",
      "9  wake\\Csv_London\\MODEC-NEW.xlsx_128234-YJ08YZE.csv      86400   \n",
      "\n",
      "                         Owner           StartTime StateOfChargeDown  \\\n",
      "0  United Kingdom, London, UPS 2016-08-01 22:00:00              None   \n",
      "1  United Kingdom, London, UPS 2016-08-01 22:00:00              None   \n",
      "2  United Kingdom, London, UPS 2016-02-25 23:00:00              None   \n",
      "3  United Kingdom, London, UPS 2016-02-29 23:00:00              None   \n",
      "4  United Kingdom, London, UPS 2016-03-01 23:00:00              None   \n",
      "5  United Kingdom, London, UPS 2016-03-02 23:00:00              None   \n",
      "6  United Kingdom, London, UPS 2016-03-03 23:00:00              None   \n",
      "7  United Kingdom, London, UPS 2016-03-06 23:00:00              None   \n",
      "8  United Kingdom, London, UPS 2016-03-07 23:00:00              None   \n",
      "9  United Kingdom, London, UPS 2016-03-08 23:00:00              None   \n",
      "\n",
      "   StateOfChargeEnd  StateOfChargeMax  StateOfChargeMin  StateOfChargeStart  \\\n",
      "0              52.0             100.0              52.0               100.0   \n",
      "1              50.0             100.0              50.0               100.0   \n",
      "2              60.0             100.0              60.0               100.0   \n",
      "3              60.0             100.0              60.0               100.0   \n",
      "4              60.0             100.0              60.0               100.0   \n",
      "5              40.0             100.0              40.0               100.0   \n",
      "6              50.0             100.0              50.0               100.0   \n",
      "7              45.0             100.0              45.0               100.0   \n",
      "8              40.0             100.0              40.0               100.0   \n",
      "9              50.0             100.0              50.0               100.0   \n",
      "\n",
      "  StateOfChargeUp      TripId       VehicleId                       _id  \n",
      "0            None  2016-08-02  128225-YJ08ZHU  57b7078d69e7d91cd03866ec  \n",
      "1            None  2016-08-02  128226-YJ08ZHV  57b7078d69e7d91cd0386841  \n",
      "2            None  2016-02-26  128234-YJ08YZE  57b7078e69e7d91cd0386c5f  \n",
      "3            None  2016-03-01  128234-YJ08YZE  57b7078e69e7d91cd0386c63  \n",
      "4            None  2016-03-02  128234-YJ08YZE  57b7078e69e7d91cd0386c64  \n",
      "5            None  2016-03-03  128234-YJ08YZE  57b7078e69e7d91cd0386c65  \n",
      "6            None  2016-03-04  128234-YJ08YZE  57b7078e69e7d91cd0386c66  \n",
      "7            None  2016-03-07  128234-YJ08YZE  57b7078e69e7d91cd0386c69  \n",
      "8            None  2016-03-08  128234-YJ08YZE  57b7078e69e7d91cd0386c6a  \n",
      "9            None  2016-03-09  128234-YJ08YZE  57b7078e69e7d91cd0386c6b  \n"
     ]
    },
    {
     "data": {
      "text/plain": [
       "49"
      ]
     },
     "execution_count": 39,
     "metadata": {},
     "output_type": "execute_result"
    }
   ],
   "source": [
    "print PartnerData.head(n=10)\n",
    "PartnerData.iloc[0,5]\n",
    "len(PartnerData['VehicleId'].unique())"
   ]
  },
  {
   "cell_type": "code",
   "execution_count": null,
   "metadata": {
    "collapsed": true
   },
   "outputs": [],
   "source": []
  }
 ],
 "metadata": {
  "anaconda-cloud": {},
  "kernelspec": {
   "display_name": "Python [Root]",
   "language": "python",
   "name": "Python [Root]"
  },
  "language_info": {
   "codemirror_mode": {
    "name": "ipython",
    "version": 2
   },
   "file_extension": ".py",
   "mimetype": "text/x-python",
   "name": "python",
   "nbconvert_exporter": "python",
   "pygments_lexer": "ipython2",
   "version": "2.7.12"
  }
 },
 "nbformat": 4,
 "nbformat_minor": 0
}
