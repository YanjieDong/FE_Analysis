{
 "cells": [
  {
   "cell_type": "code",
   "execution_count": 40,
   "metadata": {
    "collapsed": false
   },
   "outputs": [],
   "source": [
    "from pymongo import MongoClient\n",
    "import pandas as pd\n",
    "import matplotlib.pyplot as plt\n",
    "%matplotlib inline  \n",
    "\n",
    "client = MongoClient(port=27123)\n",
    "db = client.frevue_data\n",
    "coll = db.Trips\n",
    "#cursor = coll.find({\"Owner\": \"United Kingdom, London, UPS\"})"
   ]
  },
  {
   "cell_type": "code",
   "execution_count": 22,
   "metadata": {
    "collapsed": false
   },
   "outputs": [],
   "source": [
    "cursor1 = coll.aggregate([\n",
    "        {\"$group\": {\"_id\": \"$Owner\", \"NumberOfTrips\": {\"$sum\": 1}}}\n",
    "    ])\n",
    "# cursor2 = coll.aggregate([\n",
    "#     {\"$match\": {\"$and\": [\n",
    "#                         {\"Owner\": \"United Kingdom, London, UPS\"}, \n",
    "#                         {\"Distance\": {\"$gt\": 0}}\n",
    "#                 ]}\n",
    "#     },\n",
    "#     {\"$group\": {\"_id\": \"$VehicleId\", \"AverageDistance\": {\"$avg\": \"$Distance\"}}}\n",
    "# ])"
   ]
  },
  {
   "cell_type": "code",
   "execution_count": 41,
   "metadata": {
    "collapsed": false
   },
   "outputs": [
    {
     "name": "stdout",
     "output_type": "stream",
     "text": [
      "United Kingdom, London, UPS\n",
      "49\n"
     ]
    }
   ],
   "source": [
    "cursor1 = coll.aggregate([\n",
    "        {\"$group\": {\"_id\": \"$Owner\", \"NumberOfTrips\": {\"$sum\": 1}}}\n",
    "    ])\n",
    "array = list(cursor1)\n",
    "vehlist = pd.DataFrame(array)    #list of operation partners\n",
    "curpartner = vehlist.iloc[10,1]   #current partner can set up a loop\n",
    "print curpartner\n",
    "cursor = coll.find(\n",
    "        {\"$and\": [\n",
    "                 {\"Owner\": curpartner},\n",
    "                 {\"Distance\": {\"$gt\": 0}}\n",
    "                ]\n",
    "        })\n",
    "PartnerData = pd.DataFrame(list(cursor))\n",
    "Veh_num = len(PartnerData['VehicleId'].unique()) #count the number of vehilces\n",
    "print Veh_num\n"
   ]
  },
  {
   "cell_type": "code",
   "execution_count": 30,
   "metadata": {
    "collapsed": false
   },
   "outputs": [
    {
     "data": {
      "text/html": [
       "<div>\n",
       "<table border=\"1\" class=\"dataframe\">\n",
       "  <thead>\n",
       "    <tr style=\"text-align: right;\">\n",
       "      <th></th>\n",
       "      <th>NumberOfTrips</th>\n",
       "      <th>_id</th>\n",
       "    </tr>\n",
       "  </thead>\n",
       "  <tbody>\n",
       "    <tr>\n",
       "      <th>0</th>\n",
       "      <td>413</td>\n",
       "      <td>Netherlands, Rotterdam, EMOSS</td>\n",
       "    </tr>\n",
       "    <tr>\n",
       "      <th>1</th>\n",
       "      <td>12675</td>\n",
       "      <td>Netherlands, Amsterdam &amp; Rotterdam, TNT</td>\n",
       "    </tr>\n",
       "    <tr>\n",
       "      <th>2</th>\n",
       "      <td>161</td>\n",
       "      <td>United Kingdom, London, Clipper</td>\n",
       "    </tr>\n",
       "    <tr>\n",
       "      <th>3</th>\n",
       "      <td>1096</td>\n",
       "      <td>Portugal, Lisbon, CTT</td>\n",
       "    </tr>\n",
       "    <tr>\n",
       "      <th>4</th>\n",
       "      <td>541</td>\n",
       "      <td>Netherlands, Amsterdam, Heineken</td>\n",
       "    </tr>\n",
       "    <tr>\n",
       "      <th>5</th>\n",
       "      <td>1143</td>\n",
       "      <td>Spain, Madrid, Calidad Pascual &amp; SEUR &amp; TNT</td>\n",
       "    </tr>\n",
       "    <tr>\n",
       "      <th>6</th>\n",
       "      <td>1652</td>\n",
       "      <td>Netherlands, Rotterdam, UPS</td>\n",
       "    </tr>\n",
       "    <tr>\n",
       "      <th>7</th>\n",
       "      <td>2987</td>\n",
       "      <td>Netherlands, Amsterdam &amp; Rotterdam, TNT RAW</td>\n",
       "    </tr>\n",
       "    <tr>\n",
       "      <th>8</th>\n",
       "      <td>319</td>\n",
       "      <td>Netherlands, Rotterdam, Heineken</td>\n",
       "    </tr>\n",
       "    <tr>\n",
       "      <th>9</th>\n",
       "      <td>1589</td>\n",
       "      <td>Portugal, Lisbon, EMEL</td>\n",
       "    </tr>\n",
       "    <tr>\n",
       "      <th>10</th>\n",
       "      <td>15800</td>\n",
       "      <td>United Kingdom, London, UPS</td>\n",
       "    </tr>\n",
       "    <tr>\n",
       "      <th>11</th>\n",
       "      <td>68</td>\n",
       "      <td>Italy, Milano, AMAT</td>\n",
       "    </tr>\n",
       "  </tbody>\n",
       "</table>\n",
       "</div>"
      ],
      "text/plain": [
       "    NumberOfTrips                                          _id\n",
       "0             413                Netherlands, Rotterdam, EMOSS\n",
       "1           12675      Netherlands, Amsterdam & Rotterdam, TNT\n",
       "2             161              United Kingdom, London, Clipper\n",
       "3            1096                        Portugal, Lisbon, CTT\n",
       "4             541             Netherlands, Amsterdam, Heineken\n",
       "5            1143  Spain, Madrid, Calidad Pascual & SEUR & TNT\n",
       "6            1652                  Netherlands, Rotterdam, UPS\n",
       "7            2987  Netherlands, Amsterdam & Rotterdam, TNT RAW\n",
       "8             319             Netherlands, Rotterdam, Heineken\n",
       "9            1589                       Portugal, Lisbon, EMEL\n",
       "10          15800                  United Kingdom, London, UPS\n",
       "11             68                          Italy, Milano, AMAT"
      ]
     },
     "execution_count": 30,
     "metadata": {},
     "output_type": "execute_result"
    }
   ],
   "source": [
    "fig = plt.figure()\n",
    "ax1 = fig.add_subplot(2,2,1)"
   ]
  },
  {
   "cell_type": "code",
   "execution_count": 15,
   "metadata": {
    "collapsed": false
   },
   "outputs": [],
   "source": [
    "cursor = coll.find(\n",
    "        {\"$and\": [\n",
    "                 {\"Owner\": \"United Kingdom, London, UPS\"},\n",
    "                 {\"Distance\": {\"$gt\": 0}}\n",
    "                ]\n",
    "        })\n",
    "UPSLondon = pd.DataFrame(list(cursor))"
   ]
  },
  {
   "cell_type": "code",
   "execution_count": 51,
   "metadata": {
    "collapsed": true
   },
   "outputs": [],
   "source": [
    "cursor2 = coll.aggregate([\n",
    "    {\"$match\": {\"$and\": [\n",
    "                        {\"Owner\": vehlist.iloc[0,1]}, \n",
    "                        {\"Distance\": {\"$gt\": 0}}\n",
    "                ]}\n",
    "    },\n",
    "    {\"$group\": {\"_id\": \"$VehicleId\", \"AverageDistance\": {\"$avg\": \"$Distance\"}}}\n",
    "])"
   ]
  },
  {
   "cell_type": "code",
   "execution_count": 39,
   "metadata": {
    "collapsed": false
   },
   "outputs": [
    {
     "name": "stdout",
     "output_type": "stream",
     "text": [
      "   Aggregation DataPoints     Distance  Duration             EndTime  \\\n",
      "0            0       None      48000.0         0 2016-08-01 22:00:00   \n",
      "1            0       None      58000.0         0 2016-08-01 22:00:00   \n",
      "2            0       None  500052000.0         0 2016-02-25 23:00:00   \n",
      "3            0       None      44000.0         0 2016-02-29 23:00:00   \n",
      "4            0       None      49000.0         0 2016-03-01 23:00:00   \n",
      "5            0       None      54000.0         0 2016-03-02 23:00:00   \n",
      "6            0       None      48000.0         0 2016-03-03 23:00:00   \n",
      "7            0       None      53000.0         0 2016-03-06 23:00:00   \n",
      "8            0       None      52000.0         0 2016-03-07 23:00:00   \n",
      "9            0       None      54000.0         0 2016-03-08 23:00:00   \n",
      "\n",
      "                                              Extras  \\\n",
      "0  {u'Driver': {u'_v': u'INSULACO', u'_t': u'Mong...   \n",
      "1  {u'Driver': {u'_v': u'PAGE', u'_t': u'MongoDB....   \n",
      "2  {u'Driver': {u'_v': u'LAMBERT', u'_t': u'Mongo...   \n",
      "3  {u'Driver': {u'_v': u'LAMBERT', u'_t': u'Mongo...   \n",
      "4  {u'Driver': {u'_v': u'LAMBERT', u'_t': u'Mongo...   \n",
      "5  {u'Driver': {u'_v': u'LAMBERT', u'_t': u'Mongo...   \n",
      "6  {u'Driver': {u'_v': u'LAMBERT', u'_t': u'Mongo...   \n",
      "7  {u'Driver': {u'_v': u'LAMBERT', u'_t': u'Mongo...   \n",
      "8  {u'Driver': {u'_v': u'LAMBERT', u'_t': u'Mongo...   \n",
      "9  {u'Driver': {u'_v': u'LAMBERT', u'_t': u'Mongo...   \n",
      "\n",
      "                                    FileRelativePath  Frequency  \\\n",
      "0  wake\\Csv_London\\MODEC-NEW.xlsx_128225-YJ08ZHU.csv      86400   \n",
      "1  wake\\Csv_London\\MODEC-NEW.xlsx_128226-YJ08ZHV.csv      86400   \n",
      "2  wake\\Csv_London\\MODEC-NEW.xlsx_128234-YJ08YZE.csv      86400   \n",
      "3  wake\\Csv_London\\MODEC-NEW.xlsx_128234-YJ08YZE.csv      86400   \n",
      "4  wake\\Csv_London\\MODEC-NEW.xlsx_128234-YJ08YZE.csv      86400   \n",
      "5  wake\\Csv_London\\MODEC-NEW.xlsx_128234-YJ08YZE.csv      86400   \n",
      "6  wake\\Csv_London\\MODEC-NEW.xlsx_128234-YJ08YZE.csv      86400   \n",
      "7  wake\\Csv_London\\MODEC-NEW.xlsx_128234-YJ08YZE.csv      86400   \n",
      "8  wake\\Csv_London\\MODEC-NEW.xlsx_128234-YJ08YZE.csv      86400   \n",
      "9  wake\\Csv_London\\MODEC-NEW.xlsx_128234-YJ08YZE.csv      86400   \n",
      "\n",
      "                         Owner           StartTime StateOfChargeDown  \\\n",
      "0  United Kingdom, London, UPS 2016-08-01 22:00:00              None   \n",
      "1  United Kingdom, London, UPS 2016-08-01 22:00:00              None   \n",
      "2  United Kingdom, London, UPS 2016-02-25 23:00:00              None   \n",
      "3  United Kingdom, London, UPS 2016-02-29 23:00:00              None   \n",
      "4  United Kingdom, London, UPS 2016-03-01 23:00:00              None   \n",
      "5  United Kingdom, London, UPS 2016-03-02 23:00:00              None   \n",
      "6  United Kingdom, London, UPS 2016-03-03 23:00:00              None   \n",
      "7  United Kingdom, London, UPS 2016-03-06 23:00:00              None   \n",
      "8  United Kingdom, London, UPS 2016-03-07 23:00:00              None   \n",
      "9  United Kingdom, London, UPS 2016-03-08 23:00:00              None   \n",
      "\n",
      "   StateOfChargeEnd  StateOfChargeMax  StateOfChargeMin  StateOfChargeStart  \\\n",
      "0              52.0             100.0              52.0               100.0   \n",
      "1              50.0             100.0              50.0               100.0   \n",
      "2              60.0             100.0              60.0               100.0   \n",
      "3              60.0             100.0              60.0               100.0   \n",
      "4              60.0             100.0              60.0               100.0   \n",
      "5              40.0             100.0              40.0               100.0   \n",
      "6              50.0             100.0              50.0               100.0   \n",
      "7              45.0             100.0              45.0               100.0   \n",
      "8              40.0             100.0              40.0               100.0   \n",
      "9              50.0             100.0              50.0               100.0   \n",
      "\n",
      "  StateOfChargeUp      TripId       VehicleId                       _id  \n",
      "0            None  2016-08-02  128225-YJ08ZHU  57b7078d69e7d91cd03866ec  \n",
      "1            None  2016-08-02  128226-YJ08ZHV  57b7078d69e7d91cd0386841  \n",
      "2            None  2016-02-26  128234-YJ08YZE  57b7078e69e7d91cd0386c5f  \n",
      "3            None  2016-03-01  128234-YJ08YZE  57b7078e69e7d91cd0386c63  \n",
      "4            None  2016-03-02  128234-YJ08YZE  57b7078e69e7d91cd0386c64  \n",
      "5            None  2016-03-03  128234-YJ08YZE  57b7078e69e7d91cd0386c65  \n",
      "6            None  2016-03-04  128234-YJ08YZE  57b7078e69e7d91cd0386c66  \n",
      "7            None  2016-03-07  128234-YJ08YZE  57b7078e69e7d91cd0386c69  \n",
      "8            None  2016-03-08  128234-YJ08YZE  57b7078e69e7d91cd0386c6a  \n",
      "9            None  2016-03-09  128234-YJ08YZE  57b7078e69e7d91cd0386c6b  \n"
     ]
    },
    {
     "data": {
      "text/plain": [
       "49"
      ]
     },
     "execution_count": 39,
     "metadata": {},
     "output_type": "execute_result"
    }
   ],
   "source": [
    "print PartnerData.head(n=10)\n",
    "PartnerData.iloc[0,5]\n",
    "len(PartnerData['VehicleId'].unique())"
   ]
  },
  {
   "cell_type": "code",
   "execution_count": null,
   "metadata": {
    "collapsed": true
   },
   "outputs": [],
   "source": []
  }
 ],
 "metadata": {
  "anaconda-cloud": {},
  "kernelspec": {
   "display_name": "Python [Root]",
   "language": "python",
   "name": "Python [Root]"
  },
  "language_info": {
   "codemirror_mode": {
    "name": "ipython",
    "version": 2
   },
   "file_extension": ".py",
   "mimetype": "text/x-python",
   "name": "python",
   "nbconvert_exporter": "python",
   "pygments_lexer": "ipython2",
   "version": "2.7.12"
  }
 },
 "nbformat": 4,
 "nbformat_minor": 0
}
